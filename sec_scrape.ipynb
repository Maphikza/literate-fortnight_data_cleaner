{
 "cells": [
  {
   "cell_type": "code",
   "execution_count": 1,
   "id": "0be18ef3-47b3-4fa9-91b0-faf339f8200b",
   "metadata": {},
   "outputs": [],
   "source": [
    "from pathlib import Path\n",
    "import pandas as pd\n",
    "import re"
   ]
  },
  {
   "cell_type": "code",
   "execution_count": 2,
   "id": "821e75a4-bc33-439c-86fe-331695196bd7",
   "metadata": {},
   "outputs": [],
   "source": [
    "path = Path(r\"C:\\Users\\stapi\\PycharmProjects\\news_scrape\\outstanding_shares_text.txt\")"
   ]
  },
  {
   "cell_type": "code",
   "execution_count": 3,
   "id": "5d0c5107-2396-4e68-942f-a4cae152da92",
   "metadata": {
    "tags": []
   },
   "outputs": [],
   "source": [
    "with open(path) as file:\n",
    "    text = file.read()"
   ]
  },
  {
   "cell_type": "code",
   "execution_count": 4,
   "id": "f00bc96e-7866-454b-9d04-5251eccf458a",
   "metadata": {},
   "outputs": [],
   "source": [
    "raw_text_list = text.split(\"(\")"
   ]
  },
  {
   "cell_type": "code",
   "execution_count": 5,
   "id": "f29c819f-8a0e-4a47-a257-c8202b71b4cb",
   "metadata": {
    "tags": []
   },
   "outputs": [],
   "source": [
    "filter_one = []\n",
    "for words in raw_text_list:\n",
    "    if \"http\" in words:\n",
    "        filter_one.append(words)"
   ]
  },
  {
   "cell_type": "code",
   "execution_count": 6,
   "id": "72f77a7a-b90f-469d-850e-ed5593cf1085",
   "metadata": {
    "tags": []
   },
   "outputs": [
    {
     "name": "stdout",
     "output_type": "stream",
     "text": [
      "'https://www.sec.gov/ix?doc=/Archives/edgar/data/66740/000006674022000076/mmm-20220930.htm','En,Shares Outstanding\n",
      "As of 09/30/2022\n",
      "552,742,915\n",
      "Re\n"
     ]
    }
   ],
   "source": [
    "search_text = \"Shares Outstanding\"\n",
    "index_list = []\n",
    "\n",
    "for text in filter_one:\n",
    "    index = text.find(search_text)\n",
    "    index_list.append(f\"{text[:95]},{text[index:index+50]}\")\n",
    "    \n",
    "print(index_list[0])"
   ]
  },
  {
   "cell_type": "code",
   "execution_count": 14,
   "id": "1256ec7d-7bdc-426c-846c-6745066b0d41",
   "metadata": {},
   "outputs": [
    {
     "name": "stdout",
     "output_type": "stream",
     "text": [
      "499\n",
      "499\n"
     ]
    }
   ],
   "source": [
    "url_list = []\n",
    "figures_list = []\n",
    "for text in index_list:\n",
    "    url_list.append(text.split(\",\")[0])\n",
    "    figures_list.append(text.split(\"\\n\")[1:])\n",
    "\n",
    "print(len(url_list))\n",
    "print(len(figures_list))"
   ]
  },
  {
   "cell_type": "code",
   "execution_count": null,
   "id": "5528a752-b799-4a1e-82be-a299c206f43c",
   "metadata": {},
   "outputs": [],
   "source": []
  },
  {
   "cell_type": "code",
   "execution_count": 19,
   "id": "dd480397-5218-456d-a646-c9ab2301b046",
   "metadata": {},
   "outputs": [
    {
     "name": "stdout",
     "output_type": "stream",
     "text": [
      "499\n"
     ]
    }
   ],
   "source": [
    "symbols_columns = []\n",
    "for row in url_list:\n",
    "    symbols_columns.append(row.split(\"-\")[0].split(\"/\")[-1].upper())\n",
    "print(len(symbols_columns))"
   ]
  },
  {
   "cell_type": "code",
   "execution_count": 18,
   "id": "f376516c-06b3-40da-b51b-76eee8e3f287",
   "metadata": {},
   "outputs": [
    {
     "name": "stdout",
     "output_type": "stream",
     "text": [
      "499\n"
     ]
    }
   ],
   "source": [
    "smooth_one = []\n",
    "for rows in symbols_columns:\n",
    "    if \"2\" in rows:\n",
    "        smooth_one.append(rows.split(\"2\")[0])\n",
    "    else:\n",
    "        smooth_one.append(rows)\n",
    "print(len(smooth_one))"
   ]
  },
  {
   "cell_type": "code",
   "execution_count": 21,
   "id": "3aa149e7-21c6-4df7-b97a-b75f54bb36d1",
   "metadata": {},
   "outputs": [
    {
     "data": {
      "text/plain": [
       "['As of 09/30/2022', '552,742,915', 'Re']"
      ]
     },
     "execution_count": 21,
     "metadata": {},
     "output_type": "execute_result"
    }
   ],
   "source": [
    "figures_list[0]"
   ]
  },
  {
   "cell_type": "code",
   "execution_count": 36,
   "id": "37369f21-9c67-4b4f-8eb3-def259854a87",
   "metadata": {},
   "outputs": [
    {
     "name": "stdout",
     "output_type": "stream",
     "text": [
      "499\n"
     ]
    }
   ],
   "source": [
    "outstanding_shares = []\n",
    "for i, row in enumerate(figures_list):\n",
    "    outstanding_shares.append(row[1])\n",
    "\n",
    "print(len(outstanding_shares))"
   ]
  },
  {
   "cell_type": "code",
   "execution_count": 126,
   "id": "292e80dd-f355-4f3e-aa38-1243dd18a169",
   "metadata": {},
   "outputs": [],
   "source": [
    "data = {\"Symbols\":smooth_one, \"Source_urls\":url_list, \"Oustanding_Shares\":outstanding_shares}\n",
    "df = pd.DataFrame(data, index=smooth_one)"
   ]
  },
  {
   "cell_type": "code",
   "execution_count": 127,
   "id": "03ec5bbb-1e78-472c-aefb-b83aa3d6ed82",
   "metadata": {},
   "outputs": [
    {
     "data": {
      "text/html": [
       "<div>\n",
       "<style scoped>\n",
       "    .dataframe tbody tr th:only-of-type {\n",
       "        vertical-align: middle;\n",
       "    }\n",
       "\n",
       "    .dataframe tbody tr th {\n",
       "        vertical-align: top;\n",
       "    }\n",
       "\n",
       "    .dataframe thead th {\n",
       "        text-align: right;\n",
       "    }\n",
       "</style>\n",
       "<table border=\"1\" class=\"dataframe\">\n",
       "  <thead>\n",
       "    <tr style=\"text-align: right;\">\n",
       "      <th></th>\n",
       "      <th>Symbols</th>\n",
       "      <th>Source_urls</th>\n",
       "      <th>Oustanding_Shares</th>\n",
       "    </tr>\n",
       "  </thead>\n",
       "  <tbody>\n",
       "    <tr>\n",
       "      <th>MMM</th>\n",
       "      <td>MMM</td>\n",
       "      <td>'https://www.sec.gov/ix?doc=/Archives/edgar/da...</td>\n",
       "      <td>552,742,915</td>\n",
       "    </tr>\n",
       "    <tr>\n",
       "      <th>AOS</th>\n",
       "      <td>AOS</td>\n",
       "      <td>'https://www.sec.gov/ix?doc=/Archives/edgar/da...</td>\n",
       "      <td>25,905,876</td>\n",
       "    </tr>\n",
       "    <tr>\n",
       "      <th>ABT</th>\n",
       "      <td>ABT</td>\n",
       "      <td>'https://www.sec.gov/ix?doc=/Archives/edgar/da...</td>\n",
       "      <td>1,743,573,777</td>\n",
       "    </tr>\n",
       "    <tr>\n",
       "      <th>ABBV</th>\n",
       "      <td>ABBV</td>\n",
       "      <td>'https://www.sec.gov/ix?doc=/Archives/edgar/da...</td>\n",
       "      <td>1,768,480,508</td>\n",
       "    </tr>\n",
       "    <tr>\n",
       "      <th>ACN</th>\n",
       "      <td>ACN</td>\n",
       "      <td>'https://www.sec.gov/ix?doc=/Archives/edgar/da...</td>\n",
       "      <td>658,388,513</td>\n",
       "    </tr>\n",
       "  </tbody>\n",
       "</table>\n",
       "</div>"
      ],
      "text/plain": [
       "     Symbols                                        Source_urls  \\\n",
       "MMM      MMM  'https://www.sec.gov/ix?doc=/Archives/edgar/da...   \n",
       "AOS      AOS  'https://www.sec.gov/ix?doc=/Archives/edgar/da...   \n",
       "ABT      ABT  'https://www.sec.gov/ix?doc=/Archives/edgar/da...   \n",
       "ABBV    ABBV  'https://www.sec.gov/ix?doc=/Archives/edgar/da...   \n",
       "ACN      ACN  'https://www.sec.gov/ix?doc=/Archives/edgar/da...   \n",
       "\n",
       "     Oustanding_Shares  \n",
       "MMM        552,742,915  \n",
       "AOS         25,905,876  \n",
       "ABT      1,743,573,777  \n",
       "ABBV     1,768,480,508  \n",
       "ACN        658,388,513  "
      ]
     },
     "execution_count": 127,
     "metadata": {},
     "output_type": "execute_result"
    }
   ],
   "source": [
    "df.head()"
   ]
  },
  {
   "cell_type": "code",
   "execution_count": 128,
   "id": "055812c7-2d4d-4bba-a9fc-cf840e951938",
   "metadata": {},
   "outputs": [
    {
     "data": {
      "text/html": [
       "<div>\n",
       "<style scoped>\n",
       "    .dataframe tbody tr th:only-of-type {\n",
       "        vertical-align: middle;\n",
       "    }\n",
       "\n",
       "    .dataframe tbody tr th {\n",
       "        vertical-align: top;\n",
       "    }\n",
       "\n",
       "    .dataframe thead th {\n",
       "        text-align: right;\n",
       "    }\n",
       "</style>\n",
       "<table border=\"1\" class=\"dataframe\">\n",
       "  <thead>\n",
       "    <tr style=\"text-align: right;\">\n",
       "      <th></th>\n",
       "      <th>Symbols</th>\n",
       "      <th>Source_urls</th>\n",
       "      <th>Oustanding_Shares</th>\n",
       "      <th>Raw_outstanding_share_vals</th>\n",
       "    </tr>\n",
       "  </thead>\n",
       "  <tbody>\n",
       "    <tr>\n",
       "      <th>MMM</th>\n",
       "      <td>MMM</td>\n",
       "      <td>'https://www.sec.gov/ix?doc=/Archives/edgar/da...</td>\n",
       "      <td>552,742,915</td>\n",
       "      <td>552742915</td>\n",
       "    </tr>\n",
       "    <tr>\n",
       "      <th>AOS</th>\n",
       "      <td>AOS</td>\n",
       "      <td>'https://www.sec.gov/ix?doc=/Archives/edgar/da...</td>\n",
       "      <td>25,905,876</td>\n",
       "      <td>25905876</td>\n",
       "    </tr>\n",
       "    <tr>\n",
       "      <th>ABT</th>\n",
       "      <td>ABT</td>\n",
       "      <td>'https://www.sec.gov/ix?doc=/Archives/edgar/da...</td>\n",
       "      <td>1,743,573,777</td>\n",
       "      <td>1743573777</td>\n",
       "    </tr>\n",
       "    <tr>\n",
       "      <th>ABBV</th>\n",
       "      <td>ABBV</td>\n",
       "      <td>'https://www.sec.gov/ix?doc=/Archives/edgar/da...</td>\n",
       "      <td>1,768,480,508</td>\n",
       "      <td>1768480508</td>\n",
       "    </tr>\n",
       "    <tr>\n",
       "      <th>ACN</th>\n",
       "      <td>ACN</td>\n",
       "      <td>'https://www.sec.gov/ix?doc=/Archives/edgar/da...</td>\n",
       "      <td>658,388,513</td>\n",
       "      <td>658388513</td>\n",
       "    </tr>\n",
       "  </tbody>\n",
       "</table>\n",
       "</div>"
      ],
      "text/plain": [
       "     Symbols                                        Source_urls  \\\n",
       "MMM      MMM  'https://www.sec.gov/ix?doc=/Archives/edgar/da...   \n",
       "AOS      AOS  'https://www.sec.gov/ix?doc=/Archives/edgar/da...   \n",
       "ABT      ABT  'https://www.sec.gov/ix?doc=/Archives/edgar/da...   \n",
       "ABBV    ABBV  'https://www.sec.gov/ix?doc=/Archives/edgar/da...   \n",
       "ACN      ACN  'https://www.sec.gov/ix?doc=/Archives/edgar/da...   \n",
       "\n",
       "     Oustanding_Shares  Raw_outstanding_share_vals  \n",
       "MMM        552,742,915                   552742915  \n",
       "AOS         25,905,876                    25905876  \n",
       "ABT      1,743,573,777                  1743573777  \n",
       "ABBV     1,768,480,508                  1768480508  \n",
       "ACN        658,388,513                   658388513  "
      ]
     },
     "execution_count": 128,
     "metadata": {},
     "output_type": "execute_result"
    }
   ],
   "source": [
    "df = df.assign(Raw_outstanding_share_vals=df[\"Oustanding_Shares\"].str.replace(\",\", \"\").astype(\"int64\"))\n",
    "df.head()"
   ]
  },
  {
   "cell_type": "code",
   "execution_count": 129,
   "id": "578a2101-1f96-43ef-b64b-dcba4123960e",
   "metadata": {},
   "outputs": [
    {
     "data": {
      "text/html": [
       "<div>\n",
       "<style scoped>\n",
       "    .dataframe tbody tr th:only-of-type {\n",
       "        vertical-align: middle;\n",
       "    }\n",
       "\n",
       "    .dataframe tbody tr th {\n",
       "        vertical-align: top;\n",
       "    }\n",
       "\n",
       "    .dataframe thead th {\n",
       "        text-align: right;\n",
       "    }\n",
       "</style>\n",
       "<table border=\"1\" class=\"dataframe\">\n",
       "  <thead>\n",
       "    <tr style=\"text-align: right;\">\n",
       "      <th></th>\n",
       "      <th>Raw_outstanding_share_vals</th>\n",
       "    </tr>\n",
       "    <tr>\n",
       "      <th>Symbols</th>\n",
       "      <th></th>\n",
       "    </tr>\n",
       "  </thead>\n",
       "  <tbody>\n",
       "    <tr>\n",
       "      <th>FOX</th>\n",
       "      <td>604949238</td>\n",
       "    </tr>\n",
       "    <tr>\n",
       "      <th>GOOG</th>\n",
       "      <td>1194600000</td>\n",
       "    </tr>\n",
       "    <tr>\n",
       "      <th>NWS</th>\n",
       "      <td>764702976</td>\n",
       "    </tr>\n",
       "  </tbody>\n",
       "</table>\n",
       "</div>"
      ],
      "text/plain": [
       "         Raw_outstanding_share_vals\n",
       "Symbols                            \n",
       "FOX                       604949238\n",
       "GOOG                     1194600000\n",
       "NWS                       764702976"
      ]
     },
     "execution_count": 129,
     "metadata": {},
     "output_type": "execute_result"
    }
   ],
   "source": [
    "summed_duplicates = df[df[\"Symbols\"].isin(df[df.duplicated()][\"Symbols\"])].groupby(\"Symbols\", as_index=False).agg({\"Raw_outstanding_share_vals\":\"sum\"}).set_index(\"Symbols\")\n",
    "summed_duplicates"
   ]
  },
  {
   "cell_type": "code",
   "execution_count": 130,
   "id": "c69303a1-4c3d-4136-9db4-64e6a69ae3a6",
   "metadata": {},
   "outputs": [],
   "source": [
    "for vals in df[\"Symbols\"]:\n",
    "    if vals in summed_duplicates.index:\n",
    "        df.loc[vals, \"Raw_outstanding_share_vals\"] = summed_duplicates.loc[vals].values[0]"
   ]
  },
  {
   "cell_type": "code",
   "execution_count": 136,
   "id": "64404760-d16f-44b6-bcf5-925f393f7ffb",
   "metadata": {},
   "outputs": [],
   "source": [
    "df.drop_duplicates(inplace=True)"
   ]
  },
  {
   "cell_type": "code",
   "execution_count": 137,
   "id": "980a92d3-4c19-4ba4-998b-724314813b3f",
   "metadata": {},
   "outputs": [
    {
     "data": {
      "text/plain": [
       "False"
      ]
     },
     "execution_count": 137,
     "metadata": {},
     "output_type": "execute_result"
    }
   ],
   "source": [
    "df.duplicated().any()"
   ]
  },
  {
   "cell_type": "code",
   "execution_count": 139,
   "id": "15da65bb-3343-48ff-a111-5b1f678e1922",
   "metadata": {},
   "outputs": [
    {
     "data": {
      "text/html": [
       "<div>\n",
       "<style scoped>\n",
       "    .dataframe tbody tr th:only-of-type {\n",
       "        vertical-align: middle;\n",
       "    }\n",
       "\n",
       "    .dataframe tbody tr th {\n",
       "        vertical-align: top;\n",
       "    }\n",
       "\n",
       "    .dataframe thead th {\n",
       "        text-align: right;\n",
       "    }\n",
       "</style>\n",
       "<table border=\"1\" class=\"dataframe\">\n",
       "  <thead>\n",
       "    <tr style=\"text-align: right;\">\n",
       "      <th></th>\n",
       "      <th>Symbols</th>\n",
       "      <th>Source_urls</th>\n",
       "      <th>Oustanding_Shares</th>\n",
       "      <th>Raw_outstanding_share_vals</th>\n",
       "    </tr>\n",
       "  </thead>\n",
       "  <tbody>\n",
       "    <tr>\n",
       "      <th>MMM</th>\n",
       "      <td>MMM</td>\n",
       "      <td>'https://www.sec.gov/ix?doc=/Archives/edgar/da...</td>\n",
       "      <td>552,742,915</td>\n",
       "      <td>552742915</td>\n",
       "    </tr>\n",
       "    <tr>\n",
       "      <th>AOS</th>\n",
       "      <td>AOS</td>\n",
       "      <td>'https://www.sec.gov/ix?doc=/Archives/edgar/da...</td>\n",
       "      <td>25,905,876</td>\n",
       "      <td>25905876</td>\n",
       "    </tr>\n",
       "    <tr>\n",
       "      <th>ABT</th>\n",
       "      <td>ABT</td>\n",
       "      <td>'https://www.sec.gov/ix?doc=/Archives/edgar/da...</td>\n",
       "      <td>1,743,573,777</td>\n",
       "      <td>1743573777</td>\n",
       "    </tr>\n",
       "    <tr>\n",
       "      <th>ABBV</th>\n",
       "      <td>ABBV</td>\n",
       "      <td>'https://www.sec.gov/ix?doc=/Archives/edgar/da...</td>\n",
       "      <td>1,768,480,508</td>\n",
       "      <td>1768480508</td>\n",
       "    </tr>\n",
       "    <tr>\n",
       "      <th>ACN</th>\n",
       "      <td>ACN</td>\n",
       "      <td>'https://www.sec.gov/ix?doc=/Archives/edgar/da...</td>\n",
       "      <td>658,388,513</td>\n",
       "      <td>658388513</td>\n",
       "    </tr>\n",
       "  </tbody>\n",
       "</table>\n",
       "</div>"
      ],
      "text/plain": [
       "     Symbols                                        Source_urls  \\\n",
       "MMM      MMM  'https://www.sec.gov/ix?doc=/Archives/edgar/da...   \n",
       "AOS      AOS  'https://www.sec.gov/ix?doc=/Archives/edgar/da...   \n",
       "ABT      ABT  'https://www.sec.gov/ix?doc=/Archives/edgar/da...   \n",
       "ABBV    ABBV  'https://www.sec.gov/ix?doc=/Archives/edgar/da...   \n",
       "ACN      ACN  'https://www.sec.gov/ix?doc=/Archives/edgar/da...   \n",
       "\n",
       "     Oustanding_Shares  Raw_outstanding_share_vals  \n",
       "MMM        552,742,915                   552742915  \n",
       "AOS         25,905,876                    25905876  \n",
       "ABT      1,743,573,777                  1743573777  \n",
       "ABBV     1,768,480,508                  1768480508  \n",
       "ACN        658,388,513                   658388513  "
      ]
     },
     "execution_count": 139,
     "metadata": {},
     "output_type": "execute_result"
    }
   ],
   "source": [
    "df.head()"
   ]
  },
  {
   "cell_type": "code",
   "execution_count": 140,
   "id": "84880023-04c8-41e7-8746-e35ca12c9023",
   "metadata": {},
   "outputs": [],
   "source": [
    "df.to_csv(\"Outstanding_shares.csv\")"
   ]
  },
  {
   "cell_type": "code",
   "execution_count": null,
   "id": "cfc44666-834a-4a4d-8153-49aac9bdcb88",
   "metadata": {},
   "outputs": [],
   "source": []
  }
 ],
 "metadata": {
  "kernelspec": {
   "display_name": "Python 3 (ipykernel)",
   "language": "python",
   "name": "python3"
  },
  "language_info": {
   "codemirror_mode": {
    "name": "ipython",
    "version": 3
   },
   "file_extension": ".py",
   "mimetype": "text/x-python",
   "name": "python",
   "nbconvert_exporter": "python",
   "pygments_lexer": "ipython3",
   "version": "3.10.1"
  }
 },
 "nbformat": 4,
 "nbformat_minor": 5
}
